{
 "cells": [
  {
   "cell_type": "code",
   "execution_count": 4,
   "metadata": {},
   "outputs": [],
   "source": [
    "# import json\n",
    "# from langchain_openai import ChatOpenAI\n",
    "# from langchain.prompts import PromptTemplate\n",
    "\n",
    "\n",
    "# def get_weather(lon, lan):\n",
    "#     print(\"call an api...\")\n",
    "\n",
    "\n",
    "# function = {\n",
    "#     \"name\": \"get_weather\",\n",
    "#     \"description\": \"function that takes longitude and latitude to find the weather of a place\",\n",
    "#     \"parameters\": {\n",
    "#         \"type\": \"object\",\n",
    "#         \"properties\": {\n",
    "#             \"lon\": {\"type\": \"string\", \"description\": \"The longitude coordinate\"},\n",
    "#             \"lat\": {\"type\": \"string\", \"description\": \"The latitude coordinate\"},\n",
    "#         },\n",
    "#     },\n",
    "#     \"required\": [\"lon\", \"lat\"],\n",
    "# }\n",
    "\n",
    "# # llm = ChatOpenAI(temperature=0.1).bind(function_call={\"name\":\"get_weather\"}, functions=[function])\n",
    "# llm = ChatOpenAI(temperature=0.1).bind(function_call=\"auto\", functions=[function])\n",
    "# prompt = PromptTemplate.from_template(\"how is the weather in the {city}?\")\n",
    "\n",
    "# chain = prompt | llm\n",
    "\n",
    "# response = chain.invoke({\"city\": \"Gimpo\"})\n",
    "# response = response.additional_kwargs[\"function_call\"]['arguments']\n",
    "# # '{\"lon\":\"126.6833\",\"lat\":\"37.6167\"}'\n",
    "\n",
    "# r = json.loads(response)\n",
    "# get_weather(r['lon'], r['lat'])"
   ]
  },
  {
   "cell_type": "code",
   "execution_count": 5,
   "metadata": {},
   "outputs": [],
   "source": [
    "from langchain_openai import ChatOpenAI\n",
    "from langchain.prompts import PromptTemplate\n",
    "\n",
    "# function is not mandatory\n",
    "# def creqte_quiz(lon, lan):\n",
    "#     print(\"call an api...\")\n",
    "\n",
    "\n",
    "function = {\n",
    "    \"name\": \"create_quiz\",\n",
    "    \"description\": \"function that takes a list of questions and answers and returns a quiz\",\n",
    "    \"parameters\": {\n",
    "        \"type\": \"object\",\n",
    "        \"properties\": {\n",
    "            \"questions\": {\n",
    "                \"type\": \"array\",\n",
    "                \"items\": {\n",
    "                    \"type\": \"object\",\n",
    "                    \"properties\": {\n",
    "                        \"question\": {\n",
    "                            \"type\": \"string\",\n",
    "                        },\n",
    "                        \"answers\": {\n",
    "                            \"type\": \"array\",\n",
    "                            \"items\": {\n",
    "                                \"type\": \"object\",\n",
    "                                \"properties\": {\n",
    "                                    \"answer\": {\n",
    "                                        \"type\": \"string\",\n",
    "                                    },\n",
    "                                    \"correct\": {\n",
    "                                        \"type\": \"boolean\",\n",
    "                                    },\n",
    "                                },\n",
    "                                \"required\": [\"answer\", \"correct\"],\n",
    "                            },\n",
    "                        },\n",
    "                    },\n",
    "                    \"required\": [\"question\", \"answers\"],\n",
    "                },\n",
    "            }\n",
    "        },\n",
    "        \"required\": [\"questions\"],\n",
    "    },\n",
    "}\n",
    "\n",
    "# llm = ChatOpenAI(temperature=0.1).bind(function_call=\"auto\", functions=[function])\n",
    "llm = ChatOpenAI(temperature=0.1).bind(\n",
    "    function_call={\"name\": \"create_quiz\"}, functions=[function]\n",
    ")\n",
    "prompt = PromptTemplate.from_template(\"make a quiz about {city}?\")\n",
    "\n",
    "chain = prompt | llm\n",
    "\n",
    "response = chain.invoke({\"city\": \"Gimpo\"})\n",
    "response = response.additional_kwargs[\"function_call\"][\"arguments\"]"
   ]
  },
  {
   "cell_type": "code",
   "execution_count": 6,
   "metadata": {},
   "outputs": [
    {
     "name": "stdout",
     "output_type": "stream",
     "text": [
      "{'question': 'What is the population of Gimpo?', 'answers': [{'answer': 'About 300,000', 'correct': True}, {'answer': 'Over 1 million', 'correct': False}, {'answer': 'Less than 100,000', 'correct': False}]}\n",
      "{'question': 'Where is Gimpo located in South Korea?', 'answers': [{'answer': 'Incheon', 'correct': False}, {'answer': 'Seoul', 'correct': False}, {'answer': 'Gyeonggi Province', 'correct': True}]}\n",
      "{'question': 'What is Gimpo known for?', 'answers': [{'answer': 'Fishing industry', 'correct': False}, {'answer': 'Aviation history', 'correct': True}, {'answer': 'Textile manufacturing', 'correct': False}]}\n"
     ]
    }
   ],
   "source": [
    "import json\n",
    "\n",
    "for question in json.loads(str(response))[\"questions\"]:\n",
    "    print(question)"
   ]
  }
 ],
 "metadata": {
  "kernelspec": {
   "display_name": "env",
   "language": "python",
   "name": "python3"
  },
  "language_info": {
   "codemirror_mode": {
    "name": "ipython",
    "version": 3
   },
   "file_extension": ".py",
   "mimetype": "text/x-python",
   "name": "python",
   "nbconvert_exporter": "python",
   "pygments_lexer": "ipython3",
   "version": "3.11.4"
  }
 },
 "nbformat": 4,
 "nbformat_minor": 2
}
