{
 "cells": [
  {
   "cell_type": "code",
   "execution_count": 1,
   "metadata": {},
   "outputs": [
    {
     "name": "stdout",
     "output_type": "stream",
     "text": [
      "/var/folders/y_/xx787gvx0l7_6jv2ttmbm2540000gn/T/tmpjhsgkx46\n",
      "/var/folders/y_/xx787gvx0l7_6jv2ttmbm2540000gn/T/tmpjhsgkx46/cache\n",
      "/var/folders/y_/xx787gvx0l7_6jv2ttmbm2540000gn/T/tmpjhsgkx46/chunks\n"
     ]
    }
   ],
   "source": [
    "import tempfile\n",
    "import os\n",
    "\n",
    "TEMP_DIR = tempfile.mkdtemp()\n",
    "CACHE_DIR = os.path.join(TEMP_DIR, \"cache\")\n",
    "CHUNKS_DIR = os.path.join(TEMP_DIR, \"chunks\")\n",
    "\n",
    "print(TEMP_DIR)\n",
    "print(CACHE_DIR)\n",
    "print(CHUNKS_DIR)"
   ]
  }
 ],
 "metadata": {
  "kernelspec": {
   "display_name": "env",
   "language": "python",
   "name": "python3"
  },
  "language_info": {
   "codemirror_mode": {
    "name": "ipython",
    "version": 3
   },
   "file_extension": ".py",
   "mimetype": "text/x-python",
   "name": "python",
   "nbconvert_exporter": "python",
   "pygments_lexer": "ipython3",
   "version": "3.11.4"
  }
 },
 "nbformat": 4,
 "nbformat_minor": 2
}
