{
 "cells": [
  {
   "cell_type": "code",
   "execution_count": 1,
   "metadata": {},
   "outputs": [],
   "source": [
    "import os\n",
    "import boto3\n",
    "\n",
    "# like login to aws console\n",
    "session = boto3.Session(\n",
    "    aws_access_key_id=os.getenv(\"AWS_ACCESS_KEY\"),\n",
    "    aws_secret_access_key=os.getenv(\"AWS_SECRET_KEY\"),\n",
    ")\n",
    "\n",
    "# access to bedrock\n",
    "client = session.client(\n",
    "    \"bedrock-runtime\",\n",
    "    \"us-east-1\",\n",
    ")"
   ]
  },
  {
   "cell_type": "code",
   "execution_count": 2,
   "metadata": {},
   "outputs": [
    {
     "data": {
      "text/plain": [
       "AIMessage(content='아마존을 사랑합니다.', additional_kwargs={'usage': {'prompt_tokens': 21, 'completion_tokens': 16, 'cache_read_input_tokens': 0, 'cache_write_input_tokens': 0, 'total_tokens': 37}, 'stop_reason': 'end_turn', 'thinking': {}, 'model_id': 'anthropic.claude-3-haiku-20240307-v1:0', 'model_name': 'anthropic.claude-3-haiku-20240307-v1:0'}, response_metadata={'usage': {'prompt_tokens': 21, 'completion_tokens': 16, 'cache_read_input_tokens': 0, 'cache_write_input_tokens': 0, 'total_tokens': 37}, 'stop_reason': 'end_turn', 'thinking': {}, 'model_id': 'anthropic.claude-3-haiku-20240307-v1:0', 'model_name': 'anthropic.claude-3-haiku-20240307-v1:0'}, id='run--a028e1e6-f898-4380-8f13-50de0cb1b4cd-0', usage_metadata={'input_tokens': 21, 'output_tokens': 16, 'total_tokens': 37, 'input_token_details': {'cache_creation': 0, 'cache_read': 0}})"
      ]
     },
     "execution_count": 2,
     "metadata": {},
     "output_type": "execute_result"
    }
   ],
   "source": [
    "#\n",
    "# * can you 2 ways: chat models or llms\n",
    "# from langchain_community.llms import Bedrock\n",
    "from langchain_aws import ChatBedrock\n",
    "\n",
    "from langchain.prompts import ChatPromptTemplate\n",
    "\n",
    "\n",
    "chat = ChatBedrock(\n",
    "    client=client,\n",
    "    model=\"anthropic.claude-3-haiku-20240307-v1:0\",\n",
    "    model_kwargs={\"temperature\": 0.1},\n",
    ")\n",
    "\n",
    "prompt = ChatPromptTemplate.from_messages(\n",
    "    [\n",
    "        (\n",
    "            \"user\",\n",
    "            \"Tranlate this sentence from {lang_a} to {lang_b}:{sentence}\",\n",
    "        ),\n",
    "    ]\n",
    ")\n",
    "\n",
    "chain = prompt | chat\n",
    "\n",
    "chain.invoke(\n",
    "    {\n",
    "        \"lang_a\": \"English\",\n",
    "        \"lang_b\": \"Korean\",\n",
    "        \"sentence\": \"I love Amazon\",\n",
    "    }\n",
    ")"
   ]
  }
 ],
 "metadata": {
  "kernelspec": {
   "display_name": "env",
   "language": "python",
   "name": "python3"
  },
  "language_info": {
   "codemirror_mode": {
    "name": "ipython",
    "version": 3
   },
   "file_extension": ".py",
   "mimetype": "text/x-python",
   "name": "python",
   "nbconvert_exporter": "python",
   "pygments_lexer": "ipython3",
   "version": "3.11.4"
  }
 },
 "nbformat": 4,
 "nbformat_minor": 2
}
