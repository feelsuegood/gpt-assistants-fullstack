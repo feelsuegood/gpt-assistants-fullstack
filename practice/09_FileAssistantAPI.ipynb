{
 "cells": [
  {
   "cell_type": "code",
   "execution_count": null,
   "metadata": {},
   "outputs": [],
   "source": [
    "import openai as client\n",
    "\n",
    "# * function for Investor assistants api\n",
    "# def create_assistant():\n",
    "#     return client.beta.assistants.create(\n",
    "#         name=\"Investor Assistant\",\n",
    "#         instructions=\"You help users do research on publicly traded companies and you help users decide if they should buy the stock or not.\",\n",
    "#         model=\"gpt-4.1-nano\",\n",
    "#         tools=functions,  # type: ignore\n",
    "#     )\n",
    "\n",
    "\n",
    "# * function for Book assistants api\n",
    "def create_assistant():\n",
    "    assistant = client.beta.assistants.create(\n",
    "        name=\"Book Assistant\",\n",
    "        instructions=\"You help users with their question on the files they upload\",\n",
    "        model=\"gpt-4.1-nano\",\n",
    "        tools=[{\"type\": \"file_search\"}],  # type: ignore\n",
    "    )\n",
    "    print(assistant)\n",
    "    return assistant\n",
    "\n",
    "\n",
    "def create_thread(content):\n",
    "    thread = client.beta.threads.create(\n",
    "        messages=[\n",
    "            {\n",
    "                \"role\": \"user\",  # type: ignore\n",
    "                \"content\": content,\n",
    "            }\n",
    "        ],\n",
    "    )\n",
    "    print(thread)\n",
    "    return thread\n",
    "\n",
    "\n",
    "def create_file(file_path):\n",
    "    created_file = client.files.create(\n",
    "        file=client.file_from_path(file_path),\n",
    "        purpose=\"assistants\",\n",
    "    )\n",
    "    print(created_file)\n",
    "    return created_file\n",
    "\n",
    "\n",
    "def create_file_thread(content, file_id):\n",
    "    file_thread = client.beta.threads.create(\n",
    "        messages=[\n",
    "            {\n",
    "                \"role\": \"user\",  # type: ignore\n",
    "                \"content\": content,\n",
    "                \"attachments\": [\n",
    "                    {\"file_id\": file_id, \"tools\": [{\"type\": \"file_search\"}]}\n",
    "                ],\n",
    "            },\n",
    "        ]\n",
    "    )\n",
    "    print(file_thread)\n",
    "    return file_thread\n",
    "\n",
    "\n",
    "def create_run(assistant_id, thread_id):\n",
    "    run = client.beta.threads.runs.create(\n",
    "        thread_id=thread_id,\n",
    "        assistant_id=assistant_id,\n",
    "    )\n",
    "    print(run)\n",
    "    return run"
   ]
  },
  {
   "cell_type": "code",
   "execution_count": null,
   "metadata": {},
   "outputs": [],
   "source": [
    "# assistant = create_assistant()\n",
    "assistant_id = \"asst_uvhM7JHUryJf6sWa8wPQXFcc\"\n",
    "# thread_id = \"thread_jCP9ahIO5uTLWWt5ao0wkXBL\"\n",
    "\n",
    "\n",
    "# thread = create_thread(\"I want to know if the Tesla stock is a good buy\")\n",
    "# thread_id = thread.id\n",
    "thread_id = \"thread_tToVc2RWXlxMTscufoHN6pyI\""
   ]
  },
  {
   "cell_type": "code",
   "execution_count": null,
   "metadata": {},
   "outputs": [],
   "source": [
    "# file = create_file(\"../files/preface.txt\")\n",
    "file_id = \"file-VxGVSfMj2qBATAodSm9Qcw\""
   ]
  },
  {
   "cell_type": "code",
   "execution_count": null,
   "metadata": {},
   "outputs": [],
   "source": [
    "# create_file_thread(\"I want you to help me with this file\", file_id)"
   ]
  },
  {
   "cell_type": "code",
   "execution_count": null,
   "metadata": {},
   "outputs": [],
   "source": [
    "thread_id = \"thread_Hxuonwg0t19GkooDNzwtf6NZ\""
   ]
  },
  {
   "cell_type": "code",
   "execution_count": null,
   "metadata": {},
   "outputs": [],
   "source": [
    "# run = create_run(assistant_id, thread_id)"
   ]
  },
  {
   "cell_type": "code",
   "execution_count": null,
   "metadata": {},
   "outputs": [],
   "source": [
    "def get_run(thread_id, run_id):\n",
    "    return client.beta.threads.runs.retrieve(thread_id=thread_id, run_id=run_id)\n",
    "\n",
    "\n",
    "def send_message(thread_id, content):\n",
    "    return client.beta.threads.messages.create(\n",
    "        thread_id=thread_id,\n",
    "        role=\"user\",\n",
    "        content=content,\n",
    "    )\n",
    "\n",
    "\n",
    "def send_file_message(thread_id, content, file_id):\n",
    "    return client.beta.threads.messages.create(\n",
    "        thread_id=thread_id,\n",
    "        role=\"user\",\n",
    "        content=[\n",
    "            {\"type\": \"text\", \"text\": content},\n",
    "            {\"type\": \"file\", \"file_id\": file_id},\n",
    "        ],\n",
    "    )\n",
    "\n",
    "\n",
    "def get_messages(thread_id):\n",
    "    messages = client.beta.threads.messages.list(\n",
    "        thread_id=thread_id,\n",
    "    )\n",
    "    messages = list(messages)\n",
    "    # the oldest one first\n",
    "    messages.reverse()\n",
    "    for message in messages:\n",
    "        print(\"-----------------------------\")\n",
    "        print(f\"{message.role}: {message.content[0].text.value}\")  # type: ignore\n",
    "        for annotation in message.content[0].text.annotations:\n",
    "            print(f\"\\nSource: {annotation.file_citation}\")\n",
    "        # print(\"-----------------------------\")\n",
    "        # print(message)\n",
    "\n",
    "\n",
    "def get_tool_outputs(thread_id, run_id):\n",
    "    run = get_run(thread_id, run_id)\n",
    "    outputs = []\n",
    "    for action in run.required_action.submit_tool_outputs.tool_calls:  # type: ignore\n",
    "        # print(action)\n",
    "        action_id = action.id\n",
    "        function = action.function\n",
    "        print(f\"Function calling {function.name} with arg {function.arguments}\")\n",
    "        # function.arguments: '{\"company_name\":\"Amazon\"}' -> need to convert to json\n",
    "        outputs.append(\n",
    "            {\n",
    "                \"tool_call_id\": action_id,\n",
    "                \"output\": functions_map[function.name](json.loads(function.arguments)),\n",
    "            }\n",
    "        )\n",
    "        # {\"tool_call_id\": \"call_8Tr9udsGdHMBhmyv17hJEAwL\",\n",
    "        #  \"output\": output,}\n",
    "    return outputs\n",
    "\n",
    "\n",
    "def submit_tool_outputs(thread_id, run_id):\n",
    "    outputs = get_tool_outputs(thread_id, run_id)\n",
    "    return client.beta.threads.runs.submit_tool_outputs(\n",
    "        run_id=run_id,\n",
    "        thread_id=thread_id,\n",
    "        tool_outputs=outputs,\n",
    "    )"
   ]
  },
  {
   "cell_type": "code",
   "execution_count": null,
   "metadata": {},
   "outputs": [],
   "source": [
    "send_message(\n",
    "    thread_id,\n",
    "    \"Who is Jane Austen?\",\n",
    ")\n",
    "#! after send message, u must excute <<run>>"
   ]
  },
  {
   "cell_type": "code",
   "execution_count": null,
   "metadata": {},
   "outputs": [],
   "source": [
    "run = create_run(assistant_id, thread_id)"
   ]
  },
  {
   "cell_type": "code",
   "execution_count": null,
   "metadata": {},
   "outputs": [],
   "source": [
    "get_run(thread_id, run.id).status\n",
    "# print(get_run(thread_id, run.id))"
   ]
  },
  {
   "cell_type": "code",
   "execution_count": null,
   "metadata": {},
   "outputs": [],
   "source": [
    "print(f\"thread_id: {thread_id}\")\n",
    "get_messages(thread_id)"
   ]
  },
  {
   "cell_type": "code",
   "execution_count": null,
   "metadata": {},
   "outputs": [],
   "source": [
    "# get_tool_outputs(thread_id, run.id)\n",
    "# submit_tool_outputs(thread_id, run.id)"
   ]
  }
 ],
 "metadata": {
  "kernelspec": {
   "display_name": "env",
   "language": "python",
   "name": "python3"
  },
  "language_info": {
   "name": "python",
   "version": "3.11.4"
  }
 },
 "nbformat": 4,
 "nbformat_minor": 2
}
