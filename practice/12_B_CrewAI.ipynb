{
 "cells": [
  {
   "cell_type": "code",
   "execution_count": 31,
   "metadata": {},
   "outputs": [],
   "source": [
    "import os\n",
    "from dotenv import load_dotenv\n",
    "\n",
    "load_dotenv()\n",
    "os.environ[\"OPENAI_MODEL_NAME\"] = \"gpt-4.1-nano\""
   ]
  },
  {
   "cell_type": "code",
   "execution_count": 32,
   "metadata": {},
   "outputs": [],
   "source": [
    "from crewai import Crew, Agent, Task\n",
    "from crewai_tools import SerperDevTool, ScrapeWebsiteTool\n",
    "\n",
    "researcher = Agent(\n",
    "    role=\"Senior Researcher\",\n",
    "    goal=\"Search the web, extract and analyze information.\",\n",
    "    backstory=\"\"\"\n",
    "    You produce the highest quality research possible.\n",
    "    You use multiple sources of information and you always double check your sources to make sure they are true and up to date.\n",
    "    You want to impress your coworkers with your work.\n",
    "    \"\"\",\n",
    "    allow_delegation=False,\n",
    "    verbose=True,\n",
    "    tools=[\n",
    "        search_tool,\n",
    "        scrape_tool,\n",
    "    ],\n",
    "    max_iter=10,\n",
    ")\n",
    "\n",
    "editor = Agent(\n",
    "    role=\"Senior Writer/Editor\",\n",
    "    goal=\"Write engaging blog posts.\",\n",
    "    backstory=\"\"\"\n",
    "    You write content that keeps people engaged and entertained.\n",
    "    Your content is easy to read it is informative and it makes people want to share it with their friends.\n",
    "    You are working for a very important client.\n",
    "    \"\"\",\n",
    "    verbose=True,\n",
    ")"
   ]
  }
 ],
 "metadata": {
  "kernelspec": {
   "display_name": "env",
   "language": "python",
   "name": "python3"
  },
  "language_info": {
   "codemirror_mode": {
    "name": "ipython",
    "version": 3
   },
   "file_extension": ".py",
   "mimetype": "text/x-python",
   "name": "python",
   "nbconvert_exporter": "python",
   "pygments_lexer": "ipython3",
   "version": "3.11.4"
  }
 },
 "nbformat": 4,
 "nbformat_minor": 2
}
