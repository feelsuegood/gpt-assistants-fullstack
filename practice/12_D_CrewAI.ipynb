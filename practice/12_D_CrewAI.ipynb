{
 "cells": [
  {
   "cell_type": "code",
   "execution_count": 1,
   "metadata": {},
   "outputs": [],
   "source": [
    "import os\n",
    "from dotenv import load_dotenv\n",
    "\n",
    "load_dotenv()\n",
    "os.environ[\"OPENAI_MODEL_NAME\"] = \"gpt-4.1-nano\""
   ]
  },
  {
   "cell_type": "code",
   "execution_count": 2,
   "metadata": {},
   "outputs": [],
   "source": [
    "from pydantic import BaseModel\n",
    "from typing import List\n",
    "\n",
    "\n",
    "class SubSection(BaseModel):\n",
    "    title: str\n",
    "    content: str\n",
    "\n",
    "\n",
    "class BlogPost(BaseModel):\n",
    "    title: str\n",
    "    introduction: str\n",
    "    sections: List[SubSection]\n",
    "    sources: List[str]\n",
    "    hashtags: List[str]"
   ]
  },
  {
   "cell_type": "code",
   "execution_count": 3,
   "metadata": {},
   "outputs": [
    {
     "name": "stderr",
     "output_type": "stream",
     "text": [
      "/Users/suajeong/code/gpt-assistants-fullstack/env/lib/python3.11/site-packages/alembic/config.py:564: DeprecationWarning: No path_separator found in configuration; falling back to legacy splitting on spaces, commas, and colons for prepend_sys_path.  Consider adding path_separator=os to Alembic config.\n",
      "  util.warn_deprecated(\n"
     ]
    }
   ],
   "source": [
    "from crewai import Crew, Agent, Task, Process\n",
    "from crewai_tools import SerperDevTool, ScrapeWebsiteTool, YoutubeChannelSearchTool\n",
    "\n",
    "search_tool = SerperDevTool()\n",
    "scrape_tool = ScrapeWebsiteTool()\n",
    "youtube_tool = YoutubeChannelSearchTool()\n",
    "\n",
    "researcher = Agent(\n",
    "    role=\"Senior Researcher\",\n",
    "    goal=\"Search the web, extract and analyze information.\",\n",
    "    backstory=\"\"\"\n",
    "    You produce the highest quality research possible.\n",
    "    You use multiple sources of information and you always double check your sources to make sure they are true and up to date.\n",
    "    You want to impress your coworkers with your work.\n",
    "    \"\"\",\n",
    "    allow_delegation=False,\n",
    "    tools=[\n",
    "        search_tool,\n",
    "        scrape_tool,\n",
    "        youtube_tool,\n",
    "    ],\n",
    "    max_iter=3,\n",
    "    verbose=True,\n",
    ")\n",
    "\n",
    "marketer = Agent(\n",
    "    role=\"Senior Marketer\",\n",
    "    goal=\"Come up with ideas that generate viral and useful content.\",\n",
    "    backstory=\"\"\"\n",
    "    You work at a marketing agency.\n",
    "    You are the best at coming up with ideas to make content go viral.\n",
    "    Your ideas are used for video, advertising, social media marketing, the content you produce appeals to a young audience.\n",
    "    \"\"\",\n",
    "    verbose=True,\n",
    ")\n",
    "\n",
    "writer = Agent(\n",
    "    role=\"Senior Writer\",\n",
    "    goal=\"Write scripts for viral Youtube videos.\",\n",
    "    backstory=\"\"\"\n",
    "    You write scripts for videos that keep people engaged and entertained.\n",
    "    Your content is easy and fun to watch, it is informative and it makes people want to share it with their friends.\n",
    "    You are working for a very important client.\n",
    "    \"\"\",\n",
    "    verbose=True,\n",
    ")"
   ]
  },
  {
   "cell_type": "code",
   "execution_count": 5,
   "metadata": {},
   "outputs": [
    {
     "ename": "SyntaxError",
     "evalue": "invalid syntax. Perhaps you forgot a comma? (602437478.py, line 37)",
     "output_type": "error",
     "traceback": [
      "\u001b[0;36m  Cell \u001b[0;32mIn[5], line 37\u001b[0;36m\u001b[0m\n\u001b[0;31m    tools=[search_tool, youtube_tool]\u001b[0m\n\u001b[0m          ^\u001b[0m\n\u001b[0;31mSyntaxError\u001b[0m\u001b[0;31m:\u001b[0m invalid syntax. Perhaps you forgot a comma?\n"
     ]
    }
   ],
   "source": [
    "brainstorm_task = Task(\n",
    "    description=\"Come up with 5 video ideas for a Youtube channel in the {industry} industry\",\n",
    "    agent=marketer,\n",
    "    expected_output=\"Your answer MUST be a list of 5 ideas for a Youtube video with an explanation of what the angle of the video would be.\",\n",
    "    output_file=\"ideas_task.md\",\n",
    "    human_input=True,\n",
    ")\n",
    "\n",
    "selection_task = Task(\n",
    "    description=\"Select a video idea that has the highest potential of going viral.\",\n",
    "    agent=writer,\n",
    "    expected_output=\"Your answer MUST include the idea that was selected as well as an explanation of why that selection was made.\",\n",
    "    human_input=True,\n",
    "    context=[brainstorm_task],\n",
    "    output_file=\"selection_task.md\",\n",
    ")\n",
    "\n",
    "research_task = Task(\n",
    "    description=\"Do all the research required to write the script of a medium length video about the selected idea.\",\n",
    "    agent=researcher,\n",
    "    expected_output=\"You answer must have all the information a writer would need to write a Youtube script.\",\n",
    "    async_execution=True,\n",
    "    context=[\n",
    "        selection_task,\n",
    "    ],\n",
    "    output_file=\"research_task.md\",\n",
    ")\n",
    "\n",
    "competitors_task = Task(\n",
    "    description=\"Search for videos or articles in the {industry} industry that are similar to the video idea we are working on and suggest ways our video can be different from theirs.\",\n",
    "    expected_output=\"Your answer must have a list of suggestions writers can follow to make sure the video is as unique and as different from competitors as possible.\",\n",
    "    agent=researcher,\n",
    "    async_execution=True,\n",
    "    context=[\n",
    "        selection_task,\n",
    "    ],\n",
    "    output_file=\"competitors_task.md\",\n",
    ")\n",
    "\n",
    "inspiration_task = Task(\n",
    "    description=\"Search for videos or articles that are similar to the video idea we are working on but from other industries.\",\n",
    "    expected_output=\"Your answer must have a list of examples of articles and videos that have a similar angle as the video we are making but that are in different industries.\",\n",
    "    agent=researcher,\n",
    "    async_execution=True,\n",
    "    context=[\n",
    "        selection_task,\n",
    "    ],\n",
    "    output_file=\"inspiration_task.md\",\n",
    ")\n",
    "\n",
    "# context uses context window like gpt-4o, gpt-4 turbo\n",
    "script_task = Task(\n",
    "    description=\"Write the script for a Youtube video for a channel in the {industry} industry.\",\n",
    "    expected_output=\"A script for a Youtube video with a title, an introduction, at least three sections, and an outro. Make sure to also include the prompt to generate a thumbnail for the video.\",\n",
    "    agent=writer,\n",
    "    context=[\n",
    "        selection_task,\n",
    "        research_task,\n",
    "        competitors_task,\n",
    "        inspiration_task,\n",
    "    ],\n",
    "    output_file=\"script_task.md\",\n",
    ")"
   ]
  },
  {
   "cell_type": "code",
   "execution_count": null,
   "metadata": {},
   "outputs": [],
   "source": [
    "crew = Crew(\n",
    "    agents=[\n",
    "        researcher,\n",
    "        marketer,\n",
    "        writer,\n",
    "    ],\n",
    "    tasks=[\n",
    "        brainstorm_task,\n",
    "        selection_task,\n",
    "        research_task,\n",
    "        competitors_task,\n",
    "        inspiration_task,\n",
    "        script_task,\n",
    "    ],\n",
    "    memory=True,\n",
    "    planning=True,\n",
    ")"
   ]
  },
  {
   "cell_type": "code",
   "execution_count": null,
   "metadata": {},
   "outputs": [],
   "source": [
    "result = crew.kickoff(\n",
    "    inputs=dict(\n",
    "        industry=\"Perfume\",\n",
    "    ),\n",
    ")"
   ]
  }
 ],
 "metadata": {
  "kernelspec": {
   "display_name": "env",
   "language": "python",
   "name": "python3"
  },
  "language_info": {
   "codemirror_mode": {
    "name": "ipython",
    "version": 3
   },
   "file_extension": ".py",
   "mimetype": "text/x-python",
   "name": "python",
   "nbconvert_exporter": "python",
   "pygments_lexer": "ipython3",
   "version": "3.11.4"
  }
 },
 "nbformat": 4,
 "nbformat_minor": 2
}
