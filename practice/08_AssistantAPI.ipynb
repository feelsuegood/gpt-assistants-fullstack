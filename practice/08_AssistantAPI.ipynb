{
 "cells": [
  {
   "cell_type": "code",
   "execution_count": 14,
   "metadata": {},
   "outputs": [
    {
     "name": "stdout",
     "output_type": "stream",
     "text": [
      "AMZN\n"
     ]
    }
   ],
   "source": [
    "# import time\n",
    "from fake_useragent import UserAgent\n",
    "from duckduckgo_search import DDGS\n",
    "\n",
    "# Initialize a UserAgent object\n",
    "ua = UserAgent()\n",
    "\n",
    "\n",
    "def get_ticker(inputs):\n",
    "    company_name = inputs[\"company_name\"]\n",
    "    ddgs = DDGS(headers={\"User-Agent\": ua.random})\n",
    "    # Perform the search\n",
    "    results = list(\n",
    "        ddgs.text(\n",
    "            f\"Ticker symbol of {company_name}\",\n",
    "            region=\"us-en\",\n",
    "            safesearch=\"off\",\n",
    "            max_results=1,\n",
    "        )\n",
    "    )\n",
    "    # time.sleep(1)\n",
    "    if results:\n",
    "        # print(results)\n",
    "        text = results[0][\"title\"].replace(\"(\", \" \").replace(\")\", \" \")\n",
    "        words = text.split()\n",
    "        for word in words:\n",
    "            if word.isupper() and 1 <= len(word) <= 5 and word.isalpha():\n",
    "                return word\n",
    "    return \"Not found\"\n",
    "\n",
    "\n",
    "result = get_ticker({\"company_name\": \"Amazon\"})\n",
    "print(result)\n",
    "\n",
    "functions = [\n",
    "    {\n",
    "        \"type\": \"function\",\n",
    "        \"function\": {\n",
    "            \"name\": \"get_ticker\",\n",
    "            \"description\": \"Given the name of a company returns its ticker symbols\",\n",
    "            \"parameters\": {\n",
    "                \"type\": \"object\",\n",
    "                \"properties\": {\n",
    "                    \"company_name\": {\n",
    "                        \"type\": \"string\",\n",
    "                        \"description\": \"The name of the company\",\n",
    "                    }\n",
    "                },\n",
    "                \"required\": [\"company_name\"],\n",
    "            },\n",
    "        },\n",
    "    }\n",
    "]"
   ]
  },
  {
   "cell_type": "code",
   "execution_count": 2,
   "metadata": {},
   "outputs": [],
   "source": [
    "import openai as client\n",
    "\n",
    "assistant = client.beta.assistants.create(\n",
    "    name=\"Investor Assistant\",\n",
    "    instructions=\"You help users do research on publicly traded company and you help them decide if they buy tho stock or not\",\n",
    "    model=\"gpt-4.1-nano\",\n",
    "    tools=functions,\n",
    ")"
   ]
  }
 ],
 "metadata": {
  "kernelspec": {
   "display_name": "env",
   "language": "python",
   "name": "python3"
  },
  "language_info": {
   "codemirror_mode": {
    "name": "ipython",
    "version": 3
   },
   "file_extension": ".py",
   "mimetype": "text/x-python",
   "name": "python",
   "nbconvert_exporter": "python",
   "pygments_lexer": "ipython3",
   "version": "3.11.4"
  }
 },
 "nbformat": 4,
 "nbformat_minor": 2
}
