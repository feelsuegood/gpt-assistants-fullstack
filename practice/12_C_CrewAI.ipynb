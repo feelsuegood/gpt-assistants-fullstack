{
 "cells": [
  {
   "cell_type": "code",
   "execution_count": 1,
   "metadata": {},
   "outputs": [],
   "source": [
    "import os\n",
    "from dotenv import load_dotenv\n",
    "\n",
    "load_dotenv()\n",
    "os.environ[\"OPENAI_MODEL_NAME\"] = \"gpt-4.1-nano\""
   ]
  },
  {
   "cell_type": "code",
   "execution_count": 2,
   "metadata": {},
   "outputs": [],
   "source": [
    "from pydantic import BaseModel\n",
    "from typing import List\n",
    "\n",
    "\n",
    "class SubSection(BaseModel):\n",
    "    title: str\n",
    "    content: str\n",
    "\n",
    "\n",
    "class BlogPost(BaseModel):\n",
    "    title: str\n",
    "    introduction: str\n",
    "    sections: List[SubSection]\n",
    "    sources: List[str]\n",
    "    hashtags: List[str]"
   ]
  },
  {
   "cell_type": "code",
   "execution_count": 3,
   "metadata": {},
   "outputs": [],
   "source": [
    "from crewai import Crew, Agent, Task\n",
    "from crewai_tools import SerperDevTool, ScrapeWebsiteTool, YoutubeChannelSearchTool\n",
    "\n",
    "search_tool = SerperDevTool()\n",
    "scrape_tool = ScrapeWebsiteTool()\n",
    "youtube_tool = YoutubeChannelSearchTool()\n",
    "\n",
    "researcher = Agent(\n",
    "    role=\"Senior Researcher\",\n",
    "    goal=\"Search the web, extract and analyze information.\",\n",
    "    backstory=\"\"\"\n",
    "    You produce the highest quality research possible.\n",
    "    You use multiple sources of information and you always double check your sources to make sure they are true and up to date.\n",
    "    You want to impress your coworkers with your work.\n",
    "    \"\"\",\n",
    "    allow_delegation=False,\n",
    "    tools=[\n",
    "        search_tool,\n",
    "        scrape_tool,\n",
    "        youtube_tool,\n",
    "    ],\n",
    "    max_iter=10,\n",
    "    verbose=True,\n",
    ")\n",
    "\n",
    "marketer = Agent(\n",
    "    role=\"Senior Marketer\",\n",
    "    goal=\"Come up with ideas that generate viral and useful content.\",\n",
    "    backstory=\"\"\"\n",
    "    You work at a marketing agency.\n",
    "    You are the best at coming up with ideas to make content go viral.\n",
    "    Your ideas are used for video, advertising, social media marketing, the content you produce appeals to a young audience.\n",
    "    \"\"\",\n",
    "    verbose=True,\n",
    ")\n",
    "writer = Agent(\n",
    "    role=\"Senior Writer\",\n",
    "    goal=\"Write scripts for viral Youtube videos.\",\n",
    "    backstory=\"\"\"\n",
    "    You write scripts for videos that keep people engaged and entertained.\n",
    "    Your content is easy and fun to watch, it is informative and it makes people want to share it with their friends.\n",
    "    You are working for a very important client.\n",
    "    \"\"\",\n",
    "    verbose=True,\n",
    ")"
   ]
  }
 ],
 "metadata": {
  "kernelspec": {
   "display_name": "env",
   "language": "python",
   "name": "python3"
  },
  "language_info": {
   "codemirror_mode": {
    "name": "ipython",
    "version": 3
   },
   "file_extension": ".py",
   "mimetype": "text/x-python",
   "name": "python",
   "nbconvert_exporter": "python",
   "pygments_lexer": "ipython3",
   "version": "3.11.4"
  }
 },
 "nbformat": 4,
 "nbformat_minor": 2
}
