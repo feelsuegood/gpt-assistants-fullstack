{
  "cells": [
    {
      "cell_type": "code",
      "execution_count": 1,
      "metadata": {},
      "outputs": [],
      "source": [
        "# from langchain.llms.openai import OpenAI\n",
        "# from langchain.chat_models import ChatOpenAI\n",
        "# from langchain.prompts import PromptTemplate, ChatPromptTemplate\n",
        "# from langchain.prompts import ChatPromptTemplate\n",
        "\n",
        "# llm = OpenAI(model_name=\"gpt-3.5-turbo-1106\")\n",
        "# * the higher the more creative\n",
        "# chat = ChatOpenAI(temperature=0.1)\n",
        "\n",
        "# a = llm.predict(\"How many planets are there?\")\n",
        "# b = chat.predict(\"How many planets are there?\")\n",
        "\n",
        "# a, b\n",
        "\n",
        "# template = PromptTemplate.from_template(\"What is the distance between {country_a} and {country_b}\",)\n",
        "\n",
        "# prompt = template.format(country_a=\"Maxico\", country_b=\"Thailand\")\n",
        "\n",
        "# chat.predict(prompt)"
      ]
    },
    {
      "cell_type": "code",
      "execution_count": 2,
      "metadata": {},
      "outputs": [],
      "source": [
        "# from langchain.schema import BaseOutputParser\n",
        "\n",
        "\n",
        "# class CommaOutputParser(BaseOutputParser):\n",
        "\n",
        "# def parse(self, text):\n",
        "#     items = text.strip().split(\",\")\n",
        "#     return list(map(str.strip, items))\n",
        "\n",
        "\n",
        "# p = CommaOutputParser()\n",
        "\n",
        "# p.parse(\" Hello,how,are,you\")"
      ]
    },
    {
      "cell_type": "code",
      "execution_count": 3,
      "metadata": {},
      "outputs": [],
      "source": [
        "# from langchain.schema import HumanMessage, AIMessage, SystemMessage\n",
        "\n",
        "\n",
        "# template = ChatPromptTemplate.from_messages(\n",
        "#     [\n",
        "#         (\n",
        "#             \"system\",\n",
        "#             \"You are a geography expert. And you only reply in {language}.\",\n",
        "#         ),\n",
        "#         (\n",
        "#             \"ai\",\n",
        "#             \"Ciao, mi chiamo {name}!\",\n",
        "#         ),\n",
        "#         (\n",
        "#             \"human\",\n",
        "#             \"What is the distance between {country_a} and {country_b} and also, what is your name?\",\n",
        "#         ),\n",
        "#     ]\n",
        "# )\n",
        "\n",
        "# prompt = template.format_messages(\n",
        "#     language=\"Greek\",\n",
        "#     name=\"Socrates\",\n",
        "#     country_a=\"Maxico\",\n",
        "#     country_b=\"Thailand\",\n",
        "# )\n",
        "\n",
        "# chat.predict_messages(prompt)"
      ]
    },
    {
      "cell_type": "code",
      "execution_count": 4,
      "metadata": {},
      "outputs": [],
      "source": [
        "# template = ChatPromptTemplate.from_messages(\n",
        "#     [\n",
        "#         (\n",
        "#             \"system\",\n",
        "#             \"You are a list generating machine. Everything you are asked will be answered with a comma seperated list of max {max_items} in lower case. Do NOT reply with anything else.\",\n",
        "#         ),\n",
        "#         (\"human\", \"{country}\",),\n",
        "#     ])\n",
        "\n",
        "# prompt = template.format_messages(\n",
        "#     max_items=10,\n",
        "#     question=\"What are the colors?\"\n",
        "# )\n",
        "\n",
        "# result = chat.predict_messages(prompt)\n",
        "\n",
        "# p = CommaOutputParser()\n",
        "\n",
        "# p.parse(result.content) # type: ignore"
      ]
    },
    {
      "cell_type": "code",
      "execution_count": 5,
      "metadata": {},
      "outputs": [],
      "source": [
        "# chain = template | chat | CommaOutputParser()\n",
        "\n",
        "# chain.invoke({\n",
        "#     \"max_items\":5,\n",
        "#     \"question\":\"What are the pokemons?\"\n",
        "# })"
      ]
    },
    {
      "cell_type": "code",
      "execution_count": 6,
      "metadata": {},
      "outputs": [],
      "source": [
        "# from langchain.chat_models import ChatOpenAI\n",
        "# from langchain.prompts import ChatPromptTemplate\n",
        "# from langchain.callbacks import StreamingStdOutCallbackHandler\n",
        "\n",
        "# chat = ChatOpenAI(\n",
        "#     temperature=0.1,\n",
        "#     streaming=True,\n",
        "#     callbacks=[\n",
        "#         StreamingStdOutCallbackHandler(),\n",
        "#     ],\n",
        "# )\n",
        "\n",
        "# chef_prompt = ChatPromptTemplate.from_messages(\n",
        "#     [\n",
        "#         (\n",
        "#             \"system\",\n",
        "#             \"You are a world-class international chef. You create easy to follow recipies for any type of cuisine with easy to find ingredients\",\n",
        "#         ),\n",
        "#         (\n",
        "#             \"human\",\n",
        "#             \"I want to cook {cuisine} food.\",\n",
        "#         ),\n",
        "#     ]\n",
        "# )\n",
        "\n",
        "# chef_chain = chef_prompt | chat"
      ]
    },
    {
      "cell_type": "code",
      "execution_count": 7,
      "metadata": {},
      "outputs": [],
      "source": [
        "# veg_chef_prompt = ChatPromptTemplate.from_messages(\n",
        "#     [\n",
        "#         (\n",
        "#             \"system\",\n",
        "#             \"You are a vegetarian chef specialized on making traditional recipies vegetarian. You find alternative ingredients and explain their preparation. You don't radically modify the recipe. If there is no alternatie for a food just say you don't know how to replace it.\",\n",
        "#         ),\n",
        "#         (\n",
        "#             \"human\",\n",
        "#             \"{recipe}\",\n",
        "#         ),\n",
        "#     ]\n",
        "# )\n",
        "\n",
        "# veg_chain = veg_chef_prompt | chat\n",
        "\n",
        "\n",
        "# final_chain = {\"recipe\": chef_chain} | veg_chain\n",
        "\n",
        "# final_chain.invoke(\n",
        "#     {\n",
        "#         \"cuisine\": \"indian\",\n",
        "#     }\n",
        "# )"
      ]
    },
    {
      "cell_type": "code",
      "execution_count": 8,
      "metadata": {},
      "outputs": [],
      "source": [
        "# from typing import Any, Dict, List\n",
        "# from langchain.chat_models import ChatOpenAI\n",
        "# from langchain.prompts import example_selector\n",
        "# from langchain.prompts.few_shot import FewShotPromptTemplate\n",
        "# from langchain.callbacks import StreamingStdOutCallbackHandler\n",
        "# from langchain.prompts import PromptTemplate\n",
        "# from langchain.prompts.example_selector.base import BaseExampleSelector\n",
        "\n",
        "\n",
        "# chat = ChatOpenAI(\n",
        "#     temperature=0.1,\n",
        "#     streaming=True,\n",
        "#     callbacks=[\n",
        "#         StreamingStdOutCallbackHandler(),\n",
        "#     ],\n",
        "# )\n",
        "\n",
        "# examples = [\n",
        "#     {\n",
        "#         \"country\": \"France\",\n",
        "#         \"answer\": \"\"\"\n",
        "#         Here is what I know:\n",
        "#         Capital: Paris\n",
        "#         Language: French\n",
        "#         Food: Wine and Cheese\n",
        "#         Currency: Euro\n",
        "#         \"\"\",\n",
        "#     },\n",
        "#     {\n",
        "#         \"country\": \"Italy\",\n",
        "#         \"answer\": \"\"\"\n",
        "#         I know this:\n",
        "#         Capital: Rome\n",
        "#         Language: Italian\n",
        "#         Food: Pizza and Pasta\n",
        "#         Currency: Euro\n",
        "#         \"\"\",\n",
        "#     },\n",
        "#     {\n",
        "#         \"country\": \"Greece\",\n",
        "#         \"answer\": \"\"\"\n",
        "#         I know this:\n",
        "#         Capital: Athens\n",
        "#         Language: Greek\n",
        "#         Food: Souvlaki and Feta Cheese\n",
        "#         Currency: Euro\n",
        "#         \"\"\",\n",
        "#     },\n",
        "# ]\n",
        "\n",
        "\n",
        "# class RandomExampleSelector(BaseExampleSelector):\n",
        "\n",
        "#     def __init__(self, examples):\n",
        "#         self.examples = examples\n",
        "\n",
        "#     def add_example(self, example):\n",
        "#         self.examples.append(examples)\n",
        "\n",
        "#     def select_examples(self, input_variables):\n",
        "#         from random import choice\n",
        "\n",
        "#         return [choice(self.examples)]\n",
        "\n",
        "\n",
        "# example_prompt = PromptTemplate.from_template(\"Human: {country}\\nAI:{answer}\")\n",
        "\n",
        "\n",
        "# example_selector = RandomExampleSelector(\n",
        "#     examples=examples,\n",
        "# )\n",
        "\n",
        "# prompt = FewShotPromptTemplate(\n",
        "#     example_prompt=example_prompt,\n",
        "#     example_selector=example_selector,\n",
        "#     suffix=\"Human: What do you know about {country}?\",\n",
        "#     input_variables=[\"country\"],\n",
        "# )\n",
        "\n",
        "# prompt.format(country=\"Brazil\")"
      ]
    },
    {
      "cell_type": "code",
      "execution_count": 9,
      "metadata": {},
      "outputs": [],
      "source": [
        "# from langchain.chat_models import ChatOpenAI\n",
        "# from langchain.callbacks import StreamingStdOutCallbackHandler\n",
        "# from langchain.prompts import PromptTemplate\n",
        "# from langchain.prompts.pipeline import PipelinePromptTemplate\n",
        "\n",
        "\n",
        "# chat = ChatOpenAI(\n",
        "#     temperature=0.1,\n",
        "#     streaming=True,\n",
        "#     callbacks=[\n",
        "#         StreamingStdOutCallbackHandler(),\n",
        "#     ],\n",
        "# )\n",
        "\n",
        "# intro = PromptTemplate.from_template(\n",
        "#     \"\"\"\n",
        "#     You are a role playing assistant.\n",
        "#     And you are impersonating a {character}\n",
        "#     \"\"\"\n",
        "# )\n",
        "\n",
        "# example = PromptTemplate.from_template(\n",
        "#     \"\"\"\n",
        "#     This is an example of how you talk:\n",
        "\n",
        "#     Human: {example_question}\n",
        "#     You: {example_answer}\n",
        "#     \"\"\"\n",
        "# )\n",
        "\n",
        "# start = PromptTemplate.from_template(\n",
        "#     \"\"\"\n",
        "#     Start now!\n",
        "\n",
        "#     Human: {question}\n",
        "#     You:\n",
        "#     \"\"\"\n",
        "# )\n",
        "\n",
        "# final = PromptTemplate.from_template(\n",
        "#     \"\"\"\n",
        "#     {intro}\n",
        "\n",
        "#     {example}\n",
        "\n",
        "#     {start}\n",
        "#     \"\"\"\n",
        "# )\n",
        "\n",
        "# prompts = [\n",
        "#     (\"intro\", intro),\n",
        "#     (\"example\", example),\n",
        "#     (\"start\", start),\n",
        "# ]\n",
        "# full_prompt = PipelinePromptTemplate(\n",
        "#     final_prompt=final,\n",
        "#     pipeline_prompts=prompts,\n",
        "# )\n",
        "\n",
        "# chain = full_prompt | chat\n",
        "\n",
        "# chain.invoke(\n",
        "#     {\n",
        "#         \"character\": \"Pirate\",\n",
        "#         \"example_question\": \"What is your location?\",\n",
        "#         \"example_answer\": \"Arrrg!\",\n",
        "#         \"question\": \"What is your favourite food?\",\n",
        "#     }\n",
        "# )"
      ]
    },
    {
      "cell_type": "code",
      "execution_count": 10,
      "metadata": {},
      "outputs": [],
      "source": [
        "# from langchain.chat_models import ChatOpenAI\n",
        "# from langchain.callbacks import StreamingStdOutCallbackHandler\n",
        "# from langchain.globals import set_llm_cache, set_debug\n",
        "# from langchain.cache import InMemoryCache, SQLiteCache\n",
        "\n",
        "# set_llm_cache(SQLiteCache(\"cache.db\"))\n",
        "\n",
        "# chat = ChatOpenAI(\n",
        "#     temperature=0.1,\n",
        "#     # streaming=True,\n",
        "#     # callbacks=[\n",
        "#     #     StreamingStdOutCallbackHandler(),\n",
        "#     # ],\n",
        "# )\n",
        "\n",
        "# chat.predict(\"How do you make an Italian pasta?\")"
      ]
    },
    {
      "cell_type": "code",
      "execution_count": 11,
      "metadata": {},
      "outputs": [],
      "source": [
        "# chat.predict(\"How do you make an Italian pasta?\")"
      ]
    },
    {
      "cell_type": "code",
      "execution_count": 12,
      "metadata": {},
      "outputs": [],
      "source": [
        "# from langchain.chat_models import ChatOpenAI\n",
        "# from langchain.llms.openai import OpenAI\n",
        "# from langchain.llms.loading import load_llm\n",
        "\n",
        "# chat = load_llm(\"model.json\")\n",
        "\n",
        "# chat"
      ]
    },
    {
      "cell_type": "code",
      "execution_count": 13,
      "metadata": {},
      "outputs": [],
      "source": [
        "# from langchain.memory import ConversationBufferMemory\n",
        "\n",
        "# memory = ConversationBufferMemory(return_messages=True)\n",
        "\n",
        "# memory.save_context({\"input\": \"Hi!\"}, {\"output\":\"How are you?\"})\n",
        "\n",
        "# memory.load_memory_variables({})"
      ]
    },
    {
      "cell_type": "code",
      "execution_count": 14,
      "metadata": {},
      "outputs": [],
      "source": [
        "# from langchain.memory import ConversationBufferWindowMemory\n",
        "\n",
        "# memory = ConversationBufferWindowMemory(return_messages=True, k=4)\n",
        "\n",
        "\n",
        "# def add_messages(input, output):\n",
        "#     memory.save_context({\"input\": input}, {\"output\": output})\n",
        "\n",
        "\n",
        "# add_messages(1, 1)"
      ]
    },
    {
      "cell_type": "code",
      "execution_count": 15,
      "metadata": {},
      "outputs": [],
      "source": [
        "# add_messages(2, 2)\n",
        "# add_messages(3, 3)\n",
        "# add_messages(4, 4)"
      ]
    },
    {
      "cell_type": "code",
      "execution_count": 16,
      "metadata": {},
      "outputs": [],
      "source": [
        "# memory.load_memory_variables({})"
      ]
    },
    {
      "cell_type": "code",
      "execution_count": 17,
      "metadata": {},
      "outputs": [],
      "source": [
        "# add_messages(5,5)"
      ]
    },
    {
      "cell_type": "code",
      "execution_count": 18,
      "metadata": {},
      "outputs": [],
      "source": [
        "# memory.load_memory_variables({})"
      ]
    },
    {
      "cell_type": "code",
      "execution_count": 19,
      "metadata": {},
      "outputs": [],
      "source": [
        "# from langchain.memory import ConversationSummaryMemory\n",
        "# from langchain.chat_models import ChatOpenAI\n",
        "\n",
        "# llm = ChatOpenAI(temperature=0.1)\n",
        "\n",
        "# memory = ConversationSummaryMemory(llm=llm)\n",
        "\n",
        "# def add_messages(input, output):\n",
        "#     memory.save_context({\"input\": input}, {\"output\": output})\n",
        "\n",
        "# def get_history():\n",
        "#     return memory.load_memory_variables({})\n",
        "\n",
        "# add_messages(\"Hi I'm Sue, I lived in Australia\", \"Wow, that's amazing\")"
      ]
    },
    {
      "cell_type": "code",
      "execution_count": 20,
      "metadata": {},
      "outputs": [],
      "source": [
        "# add_messages(\"Australia is so pretty\", \"I want to go there\")"
      ]
    },
    {
      "cell_type": "code",
      "execution_count": 21,
      "metadata": {},
      "outputs": [],
      "source": [
        "# get_history()"
      ]
    },
    {
      "cell_type": "code",
      "execution_count": 22,
      "metadata": {},
      "outputs": [],
      "source": [
        "# from langchain.memory import ConversationSummaryBufferMemory\n",
        "# from langchain.chat_models import ChatOpenAI\n",
        "\n",
        "# llm = ChatOpenAI(temperature=0.1)\n",
        "\n",
        "# memory = ConversationSummaryBufferMemory(\n",
        "#     llm=llm,\n",
        "#     max_token_limit=150,\n",
        "#     return_messages=True,\n",
        "# )\n",
        "\n",
        "\n",
        "# def add_messages(input, output):\n",
        "#     memory.save_context({\"input\": input}, {\"output\": output})\n",
        "\n",
        "\n",
        "# def get_history():\n",
        "#     return memory.load_memory_variables({})\n",
        "\n",
        "\n",
        "# add_messages(\"Hi I'm Sue, I lived in Australia\", \"Wow, that's amazing\")"
      ]
    },
    {
      "cell_type": "code",
      "execution_count": 23,
      "metadata": {},
      "outputs": [],
      "source": [
        "# get_history()"
      ]
    },
    {
      "cell_type": "code",
      "execution_count": 24,
      "metadata": {},
      "outputs": [],
      "source": [
        "# add_messages(\"Australia is so pretty\", \"I want to go there\")"
      ]
    },
    {
      "cell_type": "code",
      "execution_count": 25,
      "metadata": {},
      "outputs": [],
      "source": [
        "# get_history()"
      ]
    },
    {
      "cell_type": "code",
      "execution_count": 26,
      "metadata": {},
      "outputs": [],
      "source": [
        "# add_messages(\"Australia has koalas, kangaroos, and quokkas\", \"they are so adorable\")"
      ]
    },
    {
      "cell_type": "code",
      "execution_count": 27,
      "metadata": {},
      "outputs": [],
      "source": [
        "# get_history()"
      ]
    },
    {
      "cell_type": "code",
      "execution_count": 28,
      "metadata": {},
      "outputs": [],
      "source": [
        "# add_messages(\"Australia is a good place for surfing, enjoying nature. What part of Australia do you want to visit?\", \"I would like to visit every single part of Australia\")"
      ]
    },
    {
      "cell_type": "code",
      "execution_count": 29,
      "metadata": {},
      "outputs": [],
      "source": [
        "# get_history()"
      ]
    },
    {
      "cell_type": "code",
      "execution_count": 30,
      "metadata": {},
      "outputs": [],
      "source": [
        "# from langchain.memory import ConversationKGMemory\n",
        "# from langchain.chat_models import ChatOpenAI\n",
        "\n",
        "# llm = ChatOpenAI(temperature=0.1)\n",
        "\n",
        "# memory = ConversationKGMemory(\n",
        "#     llm=llm,\n",
        "#     return_messages=True,\n",
        "# )\n",
        "\n",
        "\n",
        "# def add_messages(input, output):\n",
        "#     memory.save_context({\"input\": input}, {\"output\": output})\n",
        "\n",
        "\n",
        "# add_messages(\n",
        "#     \"Halo halo, nice to meet you. I'm Sue from South Korea\", \"Nice to meet you, too!\"\n",
        "# )"
      ]
    },
    {
      "cell_type": "code",
      "execution_count": 31,
      "metadata": {},
      "outputs": [],
      "source": [
        "# memory.load_memory_variables({\"input\":\"Who is Sue?\"})"
      ]
    },
    {
      "cell_type": "code",
      "execution_count": 32,
      "metadata": {},
      "outputs": [],
      "source": [
        "# add_messages(\"Sue likes quokkas\", \"I like too\")"
      ]
    },
    {
      "cell_type": "code",
      "execution_count": 33,
      "metadata": {},
      "outputs": [],
      "source": [
        "# memory.load_memory_variables({\"input\":\"What does Sue like?\"})"
      ]
    },
    {
      "cell_type": "code",
      "execution_count": 34,
      "metadata": {},
      "outputs": [],
      "source": [
        "# invoke_chain(\"My name is Sue\")"
      ]
    },
    {
      "cell_type": "code",
      "execution_count": 35,
      "metadata": {},
      "outputs": [],
      "source": [
        "# invoke_chain(\"What is my name?\")"
      ]
    },
    {
      "cell_type": "code",
      "execution_count": 36,
      "metadata": {},
      "outputs": [],
      "source": [
        "# memory.load_memory_variables({})"
      ]
    },
    {
      "cell_type": "code",
      "execution_count": 2,
      "metadata": {},
      "outputs": [
        {
          "data": {
            "text/plain": [
              "AIMessage(content=\"Miss Austen's humor is subtle, delicate, and characterized by demureness. She has a knack for creating humorous and memorable characters with acutely delightful and ironic dialogue. Her writing style is consciously humorous, with a focus on character creation and dialogue rather than on a faultless plot. Austen's humor is restrained and well-mannered, with a hint of cruelty similar to that found in Addison's work. Despite her ability to construct a story, her highest merit as a novelist is seen in her humor, character creation, and dialogue.\")"
            ]
          },
          "execution_count": 2,
          "metadata": {},
          "output_type": "execute_result"
        }
      ],
      "source": [
        "from langchain_openai import ChatOpenAI\n",
        "from langchain_community.document_loaders import UnstructuredFileLoader\n",
        "from langchain.text_splitter import CharacterTextSplitter\n",
        "from langchain_openai import OpenAIEmbeddings\n",
        "from langchain.embeddings import CacheBackedEmbeddings\n",
        "from langchain_community.vectorstores import FAISS\n",
        "from langchain.storage import LocalFileStore\n",
        "from langchain.prompts import ChatPromptTemplate\n",
        "from langchain.schema.runnable import RunnablePassthrough, RunnableLambda\n",
        "\n",
        "llm = ChatOpenAI(\n",
        "    temperature=0.1,\n",
        ")\n",
        "\n",
        "cache_dir = LocalFileStore(\"./.cache/\")\n",
        "\n",
        "splitter = CharacterTextSplitter.from_tiktoken_encoder(\n",
        "    separator=\"\\n\",\n",
        "    chunk_size=600,\n",
        "    chunk_overlap=100,\n",
        ")\n",
        "\n",
        "loader = UnstructuredFileLoader(\"./files/preface.docx\")\n",
        "\n",
        "docs = loader.load_and_split(text_splitter=splitter)\n",
        "\n",
        "embeddings = OpenAIEmbeddings()\n",
        "\n",
        "cached_embeddings = CacheBackedEmbeddings.from_bytes_store(\n",
        "    embeddings,\n",
        "    cache_dir,\n",
        ")\n",
        "\n",
        "vectorstore = FAISS.from_documents(\n",
        "    docs,\n",
        "    cached_embeddings,\n",
        ")\n",
        "# list of docs\n",
        "\n",
        "retriever = vectorstore.as_retriever()\n",
        "\n",
        "# for doc in list of docs | prompt | llm\n",
        "\n",
        "map_doc_prompt = ChatPromptTemplate.from_messages(\n",
        "    [\n",
        "        (\n",
        "            \"system\",\n",
        "            \"\"\"\n",
        "Use the following portion of a long document to see any of the text is relevant to answer the question. Return any relevant text verbatim.\n",
        "-----\n",
        "{context} \n",
        "\"\"\",\n",
        "        ),\n",
        "        (\"human\", \"{question}\"),\n",
        "    ]\n",
        ")\n",
        "\n",
        "\n",
        "map_doc_chain = map_doc_prompt | llm\n",
        "\n",
        "# for response in list of llm response | put them all together\n",
        "\n",
        "\n",
        "def map_doc(input):\n",
        "    documents = input[\"documents\"]\n",
        "    question = input[\"question\"]\n",
        "    return \"\\n\\n\".join(\n",
        "        [\n",
        "            str(\n",
        "                map_doc_chain.invoke(\n",
        "                    {\n",
        "                        \"context\": str(doc.page_content),\n",
        "                        \"question\": str(question),\n",
        "                    }\n",
        "                ).content\n",
        "            )\n",
        "            for doc in documents\n",
        "        ]\n",
        "    )\n",
        "\n",
        "\n",
        "map_chain = {\n",
        "    \"documents\": retriever,\n",
        "    \"question\": RunnablePassthrough(),\n",
        "} | RunnableLambda(map_doc)\n",
        "\n",
        "# final doc | prompt | llm\n",
        "\n",
        "final_prompt = ChatPromptTemplate.from_messages(\n",
        "    [\n",
        "        (\n",
        "            \"system\",\n",
        "            \"\"\"\n",
        "Given the following extract parts of a long documents and a question, create a final answer. \n",
        "If you don't know the answer, just say you don't know. Don't try make up an answer.\n",
        "-----\n",
        "{context}\n",
        "\"\"\",\n",
        "        ),\n",
        "        (\"human\", \"{question}\"),\n",
        "    ]\n",
        ")\n",
        "\n",
        "chain = {\"context\": map_chain, \"question\": RunnablePassthrough()} | final_prompt | llm\n",
        "\n",
        "chain.invoke(\"Describe characteristics of miss Austen.\")"
      ]
    },
    {
      "cell_type": "code",
      "execution_count": null,
      "metadata": {},
      "outputs": [],
      "source": [
        "# vectorstore.similarity_search(\"Who is miss Austen\")"
      ]
    }
  ],
  "metadata": {
    "kernelspec": {
      "display_name": "env",
      "language": "python",
      "name": "python3"
    },
    "language_info": {
      "codemirror_mode": {
        "name": "ipython",
        "version": 3
      },
      "file_extension": ".py",
      "mimetype": "text/x-python",
      "name": "python",
      "nbconvert_exporter": "python",
      "pygments_lexer": "ipython3",
      "version": "3.11.4"
    }
  },
  "nbformat": 4,
  "nbformat_minor": 2
}
