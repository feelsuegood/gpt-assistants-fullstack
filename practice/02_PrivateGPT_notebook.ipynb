{
  "cells": [
    {
      "cell_type": "code",
      "execution_count": null,
      "metadata": {},
      "outputs": [],
      "source": [
        "### Hugging Face ###\n",
        "\n",
        "# from langchain_huggingface import HuggingFaceEndpoint\n",
        "# from langchain.prompts import PromptTemplate\n",
        "\n",
        "# prompt = PromptTemplate.from_template(\"[INST] What is the meaning of {word}? [/INST]\")\n",
        "\n",
        "# llm = HuggingFaceEndpoint(\n",
        "#     model=\"mistralai/Mistral-7B-Instruct-v0.3\",\n",
        "#     task=\"text-generation\",\n",
        "#     max_new_tokens=250,\n",
        "# )\n",
        "\n",
        "# chain = prompt | llm\n",
        "\n",
        "# chain.invoke({\"word\": \"chipmunk\"})"
      ]
    },
    {
      "cell_type": "code",
      "execution_count": null,
      "metadata": {},
      "outputs": [],
      "source": [
        "# from langchain_huggingface import HuggingFacePipeline\n",
        "# from langchain.prompts import PromptTemplate\n",
        "\n",
        "# prompt = PromptTemplate.from_template(\"A {word} is a\")\n",
        "\n",
        "# llm = HuggingFacePipeline.from_model_id(\n",
        "#     model_id=\"gpt2\",\n",
        "#     task=\"text-generation\",\n",
        "#     pipeline_kwargs={\"max_new_tokens\": 150},\n",
        "# )\n",
        "# chain = prompt | llm\n",
        "\n",
        "# chain.invoke({\"word\": \"cockatoo\"})"
      ]
    },
    {
      "cell_type": "code",
      "execution_count": null,
      "metadata": {},
      "outputs": [],
      "source": [
        "#### GPT4All\n",
        "\n",
        "# # download a model\n",
        "# from gpt4all import GPT4All\n",
        "\n",
        "# model = GPT4All(\"orca-mini-3b-gguf2-q4_0.gguf\")"
      ]
    },
    {
      "cell_type": "code",
      "execution_count": null,
      "metadata": {},
      "outputs": [],
      "source": [
        "# # struggle to find a model file lol\n",
        "\n",
        "# import os\n",
        "\n",
        "# def search_gguf(base_path=\"/\"):\n",
        "#     for root, dirs, files in os.walk(base_path):\n",
        "#         for file in files:\n",
        "#             if file.endswith(\".gguf\") and \"orca\" in file:\n",
        "#                 print(\"👉 Found:\", os.path.join(root, file))\n",
        "\n",
        "\n",
        "# search_gguf(\"/Users/suajeong\")\n",
        "# search_gguf(\"/Volumes/MyPassport\")"
      ]
    },
    {
      "cell_type": "code",
      "execution_count": null,
      "metadata": {},
      "outputs": [],
      "source": [
        "from langchain.llms import GPT4All\n",
        "from langchain.prompts import PromptTemplate\n",
        "\n",
        "prompt = PromptTemplate.from_template(\n",
        "    # \"A {word} is a\"\n",
        "    # not working without System. e.g., You are a helpful assistant that defines words.Define the word: {word}\n",
        "    \"System: You are a helpful assistant that defines words. Define the word: {word}\"\n",
        ")\n",
        "\n",
        "llm = GPT4All(\n",
        "    model=\"../orca-mini-3b-gguf2-q4_0.gguf\",\n",
        ")\n",
        "\n",
        "chain = prompt | llm\n",
        "\n",
        "chain.invoke({\"word\": \"cockatoo\"})"
      ]
    }
  ],
  "metadata": {
    "kernelspec": {
      "display_name": "env",
      "language": "python",
      "name": "python3"
    },
    "language_info": {
      "codemirror_mode": {
        "name": "ipython",
        "version": 3
      },
      "file_extension": ".py",
      "mimetype": "text/x-python",
      "name": "python",
      "nbconvert_exporter": "python",
      "pygments_lexer": "ipython3",
      "version": "3.11.4"
    }
  },
  "nbformat": 4,
  "nbformat_minor": 2
}
