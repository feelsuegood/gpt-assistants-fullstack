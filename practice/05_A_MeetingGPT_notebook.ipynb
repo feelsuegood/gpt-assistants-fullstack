{
 "cells": [
  {
   "cell_type": "code",
   "execution_count": 1,
   "metadata": {},
   "outputs": [],
   "source": [
    "# import subprocess\n",
    "\n",
    "# def extract_audio_from_video(video_path, audio_path):\n",
    "#     # overwrite audio file\n",
    "#     # command = [\"ffmpeg\", \"-i\", video_path, \"-vn\", audio_path\", \"-y\"]\n",
    "#     command = [\"ffmpeg\", \"-i\", video_path, \"-vn\", audio_path]\n",
    "#     subprocess.run(command)\n",
    "\n",
    "# extract_audio_from_video(\"../files/astrology.mp4\", \"../files/astrology.mp3\")"
   ]
  },
  {
   "cell_type": "code",
   "execution_count": 2,
   "metadata": {},
   "outputs": [],
   "source": [
    "# l =[0,1,2,3,4,5]\n",
    "# # both are same\n",
    "# print(l[0:5])\n",
    "# print(l[:5])\n",
    "# # both are same\n",
    "# print(l[4:])\n",
    "# print(l[4:7])"
   ]
  },
  {
   "cell_type": "code",
   "execution_count": 3,
   "metadata": {},
   "outputs": [],
   "source": [
    "# import subprocess\n",
    "# from pydub import AudioSegment\n",
    "\n",
    "\n",
    "# def extract_audio_from_video(video_path, audio_path):\n",
    "#     # overwrite audio file\n",
    "#     # command = [\"ffmpeg\", \"-i\", video_path, \"-vn\", audio_path\", \"-y\"]\n",
    "#     command = [\"ffmpeg\", \"-i\", video_path, \"-vn\", audio_path]\n",
    "#     subprocess.run(command)\n",
    "\n",
    "\n",
    "# # extract_audio_from_video(\"../files/astrology.mp4\", \"../files/astrology.mp3\")\n",
    "\n",
    "\n",
    "# track = AudioSegment.from_mp3(\"../files/astrology.mp3\")\n",
    "\n",
    "# five_minutes = 5 * 60 * 1000"
   ]
  },
  {
   "cell_type": "code",
   "execution_count": 4,
   "metadata": {},
   "outputs": [],
   "source": [
    "# first_five = track[:five_minutes]\n",
    "\n",
    "# first_five.export(\"../files/first_five.mp3\", format=\"mp3\")"
   ]
  },
  {
   "cell_type": "code",
   "execution_count": 5,
   "metadata": {},
   "outputs": [],
   "source": [
    "# import math\n",
    "\n",
    "# # ceil <-> floor\n",
    "# chunks = math.ceil(len(track) / five_minutes)\n",
    "\n",
    "# for i in range(chunks):\n",
    "#     # print(i)\n",
    "#     start_time = i * five_minutes\n",
    "#     end_time = (i + 1) * five_minutes\n",
    "#     # print(f\"start: {start_time}, end: {end_time}\")\n",
    "#     chunk = track[start_time:end_time]\n",
    "#     chunk.export(f\"../files/chunks/chunk_{i}.mp3\", format=\"mp3\")"
   ]
  },
  {
   "cell_type": "code",
   "execution_count": 6,
   "metadata": {},
   "outputs": [],
   "source": [
    "import subprocess\n",
    "from pydub import AudioSegment\n",
    "import math\n",
    "\n",
    "\n",
    "def extract_audio_from_video(video_path, audio_path):\n",
    "    # if want to overwrite audio file\n",
    "    # command = [\"ffmpeg\", \"-i\", video_path, \"-vn\", audio_path\", \"-y\"]\n",
    "    command = [\"ffmpeg\", \"-i\", video_path, \"-vn\", audio_path]\n",
    "    subprocess.run(command)\n",
    "\n",
    "\n",
    "def cut_audio_in_chunks(audio_path, chunk_size, chunks_folder):\n",
    "    track = AudioSegment.from_mp3(audio_path)\n",
    "\n",
    "    chunk_leng = chunk_size * 60 * 1000\n",
    "    # ceil <-> floor\n",
    "    chunks = math.ceil(len(track) / chunk_leng)\n",
    "\n",
    "    for i in range(chunks):\n",
    "        # print(i)\n",
    "        start_time = i * chunk_leng\n",
    "        end_time = (i + 1) * chunk_leng\n",
    "        # print(f\"start: {start_time}, end: {end_time}\")\n",
    "        chunk = track[start_time:end_time]\n",
    "        chunk.export(f\"{chunks_folder}/chunk_{i}.mp3\", format=\"mp3\")"
   ]
  },
  {
   "cell_type": "code",
   "execution_count": 7,
   "metadata": {},
   "outputs": [],
   "source": [
    "# cut_audio_in_chunks(\"../files/astrology.mp3\", 5, \"../files/chunks\")"
   ]
  },
  {
   "cell_type": "code",
   "execution_count": 8,
   "metadata": {},
   "outputs": [],
   "source": [
    "import openai\n",
    "import glob\n",
    "\n",
    "# # ! remember put \"rb\"\n",
    "# transcript = openai.Audio.transcribe(\n",
    "#     \"whisper-1\",\n",
    "#     open(\"../files/chunks/chunk_0.mp3\", \"rb\"),\n",
    "#     language=\"en\",\n",
    "# )\n",
    "\n",
    "# transcript['text']\n",
    "\n",
    "\n",
    "def transcribe_chunks(chunks_folder, destination):\n",
    "    files = glob.glob(f\"{chunks_folder}/*.mp3\")\n",
    "    # final_transcript = \"\"\n",
    "    for file in files:\n",
    "        # \"r\": read, \"b\" binary, \"a\": append\n",
    "        # with open(file, \"rb\") as audio_file:\n",
    "        with open(file, \"rb\") as audio_file, open(destination, \"a\") as text_file:\n",
    "            transcript = openai.audio.transcriptions.create(\n",
    "                model=\"whisper-1\",\n",
    "                file=audio_file,\n",
    "                language=\"en\",\n",
    "            )\n",
    "            # text_file = transcript[\"text\"]\n",
    "            text_file.write(transcript.text)\n",
    "    # with open(destination, \"w\") as file:\n",
    "    #     file.write(final_transcript)\n",
    "\n",
    "\n",
    "transcribe_chunks(\"../files/chunks\", \"../files/transcript.txt\")"
   ]
  },
  {
   "cell_type": "code",
   "execution_count": 9,
   "metadata": {},
   "outputs": [],
   "source": [
    "# import glob\n",
    "\n",
    "# files = glob.glob(\"../.cache/chunks/*.mp3\")\n",
    "# files.sort()\n",
    "# files"
   ]
  }
 ],
 "metadata": {
  "kernelspec": {
   "display_name": "env",
   "language": "python",
   "name": "python3"
  },
  "language_info": {
   "codemirror_mode": {
    "name": "ipython",
    "version": 3
   },
   "file_extension": ".py",
   "mimetype": "text/x-python",
   "name": "python",
   "nbconvert_exporter": "python",
   "pygments_lexer": "ipython3",
   "version": "3.11.4"
  }
 },
 "nbformat": 4,
 "nbformat_minor": 2
}
